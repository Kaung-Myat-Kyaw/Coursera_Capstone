{
 "cells": [
  {
   "cell_type": "markdown",
   "id": "aa707820",
   "metadata": {},
   "source": [
    "## Introduction and Business Problem\n",
    "The city of Toronto has a large number of conventional grocery stores, but fewer organic grocery stores.\n",
    "Demand for organic groceries is on the rise and while they are available at conventional grocery stores, the opportunities for dedicated organic stores are likely increasing.\n",
    "This project will help a prospective organic grocery store owner decide which neighbourhood they should pick for their new business."
   ]
  },
  {
   "cell_type": "markdown",
   "id": "091fd292",
   "metadata": {},
   "source": [
    "# Data\n",
    "The approach for solving the problem will be comparing the ratio of organic to conventional grocery stores by neighbourhood to determine which is comparatively lacking in organic stores.\n",
    "Two data sets from the Foursquare API will be used, one for conventional grocery stores in Toronto, and one for organic grocery stores in Toronto.\n",
    "Two additional data sets will be used to define the neighbourhoods: the wikipedia scrape of neighbourhoods by postal code, and the CSV file from the week three assignment giving the coordinates for each postal code.\n",
    "These two data sets will be used to define the neighbourhoods and limit them to the Downtown Toronto, Central Toronto, East Toronto, and West Toronto boroughs.\n",
    "While the initial approach will look at the ratio of store type by neighbourhood, additional analytical techniques may also be applied."
   ]
  },
  {
   "cell_type": "markdown",
   "id": "6e021db2",
   "metadata": {},
   "source": [
    "# Assumptions\n",
    "1. Consumers will be more likely to shop at organic grocery stores near where the conventional grocery stores they already shop at.\n",
    "2. Foursquare categorization of organic vs conventional is correct.\n",
    "3. Foursquare data is sufficiently comprehensive for the analysis, without significant differences in reporting rates across neighbourhoods or types of stores."
   ]
  },
  {
   "cell_type": "code",
   "execution_count": null,
   "id": "e21481a3",
   "metadata": {},
   "outputs": [],
   "source": []
  }
 ],
 "metadata": {
  "kernelspec": {
   "display_name": "Python 3",
   "language": "python",
   "name": "python3"
  },
  "language_info": {
   "codemirror_mode": {
    "name": "ipython",
    "version": 3
   },
   "file_extension": ".py",
   "mimetype": "text/x-python",
   "name": "python",
   "nbconvert_exporter": "python",
   "pygments_lexer": "ipython3",
   "version": "3.8.8"
  }
 },
 "nbformat": 4,
 "nbformat_minor": 5
}

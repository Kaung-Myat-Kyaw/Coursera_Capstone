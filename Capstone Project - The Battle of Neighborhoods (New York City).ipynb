{
 "cells": [
  {
   "cell_type": "markdown",
   "id": "a7a20dac",
   "metadata": {},
   "source": [
    "## Introduction and Business Problem\n",
    "This project is aimed to make your travel experience to New York Simple by Providing all nearby locations, local areas, hotels, best places to visit in new York with help of Foursquare datasets.\n",
    "Visiting New York City on a budget might sound a bit far-fetched for some travelers, but with a little careful planning, you can have a successful trip to NYC on any budget.\n",
    "While New York City is known to be one of the world’s most expensive cities, there are plenty of ways to have an incredible trip without breaking the bank. One of my favorite ways to explore city, venues, budget hotels is always through checking with Foursquare.\n",
    "\n",
    "## Problem Statement :\n",
    "Travelling has become more of a hobby than passion for youngsters. Moving around the country during the weekends and even taking a break off work to visit new places is the new ‘trend’. But while travelling, many come across a lot of problems like need hotels, need to visit best nearby places, getting lost in unknown places and many more! This Project is mainly aim to Guide Peoples to City of \"NEW YORK\"."
   ]
  },
  {
   "cell_type": "markdown",
   "id": "273ca815",
   "metadata": {},
   "source": [
    "## OBJECTIVES:\n",
    "1. First of all, the geojson data for new york city’s neighborhood is required. \n",
    "2. Then, analyzing the data using the Foursquare API.\n",
    "3. Use clustering to identify each area and its category.\n",
    "\n",
    "## Data Source \n",
    "we are going to use is from Foursquare. Foursquare is a technology company that uses location intelligence to build meaningful consumer experiences and business solutions. So We are going to build a project with the help of Foursquare location data, Foursquare API provides great amount of quality data’s about locations.(cafe, restaurant etc) Using this data will allow tourists to easily decide where to go when they are in a specific city.\n",
    "Using techniques such as K-means clustering, I was able to get results about common venues in city. This information can be really helpful to tourists since they can focus on what they are trying to experience most during their Travel .(Food, culture, sport etc) These techniques also provides the visualization of clustering of city. k-means clustering is a method of vector quantization, originally from signal processing, that is popular for cluster analysis in data mining. k-means clustering aims to partition n observations into k clusters in which each observation belongs to the cluster with the nearest mean, serving as a prototype of the cluster. This results in a partitioning of the data space into Voronoi cells\n",
    "\n",
    "## Conclusion\n",
    "So using Foursqaure data set I have successfully created a way to know all the location information handy, information such as nearby places, hotels, venues are easily accessible using data science methodology."
   ]
  },
  {
   "cell_type": "code",
   "execution_count": null,
   "id": "f708212a",
   "metadata": {},
   "outputs": [],
   "source": []
  },
  {
   "cell_type": "code",
   "execution_count": null,
   "id": "e21481a3",
   "metadata": {},
   "outputs": [],
   "source": []
  }
 ],
 "metadata": {
  "kernelspec": {
   "display_name": "Python 3",
   "language": "python",
   "name": "python3"
  },
  "language_info": {
   "codemirror_mode": {
    "name": "ipython",
    "version": 3
   },
   "file_extension": ".py",
   "mimetype": "text/x-python",
   "name": "python",
   "nbconvert_exporter": "python",
   "pygments_lexer": "ipython3",
   "version": "3.8.8"
  }
 },
 "nbformat": 4,
 "nbformat_minor": 5
}

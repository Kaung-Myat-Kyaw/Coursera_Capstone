{
 "cells": [
  {
   "cell_type": "code",
   "execution_count": 2,
   "id": "135f03fb",
   "metadata": {},
   "outputs": [
    {
     "name": "stdout",
     "output_type": "stream",
     "text": [
      "Collecting geocoder\n",
      "  Downloading geocoder-1.38.1-py2.py3-none-any.whl (98 kB)\n",
      "Requirement already satisfied: requests in c:\\anaconda3\\lib\\site-packages (from geocoder) (2.25.1)\n",
      "Collecting ratelim\n",
      "  Downloading ratelim-0.1.6-py2.py3-none-any.whl (4.0 kB)\n",
      "Requirement already satisfied: six in c:\\anaconda3\\lib\\site-packages (from geocoder) (1.15.0)\n",
      "Requirement already satisfied: click in c:\\anaconda3\\lib\\site-packages (from geocoder) (7.1.2)\n",
      "Requirement already satisfied: future in c:\\anaconda3\\lib\\site-packages (from geocoder) (0.18.2)\n",
      "Requirement already satisfied: decorator in c:\\anaconda3\\lib\\site-packages (from ratelim->geocoder) (5.0.6)\n",
      "Requirement already satisfied: chardet<5,>=3.0.2 in c:\\anaconda3\\lib\\site-packages (from requests->geocoder) (4.0.0)\n",
      "Requirement already satisfied: certifi>=2017.4.17 in c:\\anaconda3\\lib\\site-packages (from requests->geocoder) (2020.12.5)\n",
      "Requirement already satisfied: idna<3,>=2.5 in c:\\anaconda3\\lib\\site-packages (from requests->geocoder) (2.10)\n",
      "Requirement already satisfied: urllib3<1.27,>=1.21.1 in c:\\anaconda3\\lib\\site-packages (from requests->geocoder) (1.26.4)\n",
      "Installing collected packages: ratelim, geocoder\n",
      "Successfully installed geocoder-1.38.1 ratelim-0.1.6\n"
     ]
    }
   ],
   "source": [
    "!pip install geocoder\n",
    "import pandas as pd\n",
    "import numpy as np\n",
    "import geocoder"
   ]
  },
  {
   "cell_type": "code",
   "execution_count": 5,
   "id": "52ed96b3",
   "metadata": {},
   "outputs": [
    {
     "data": {
      "text/html": [
       "<div>\n",
       "<style scoped>\n",
       "    .dataframe tbody tr th:only-of-type {\n",
       "        vertical-align: middle;\n",
       "    }\n",
       "\n",
       "    .dataframe tbody tr th {\n",
       "        vertical-align: top;\n",
       "    }\n",
       "\n",
       "    .dataframe thead th {\n",
       "        text-align: right;\n",
       "    }\n",
       "</style>\n",
       "<table border=\"1\" class=\"dataframe\">\n",
       "  <thead>\n",
       "    <tr style=\"text-align: right;\">\n",
       "      <th></th>\n",
       "      <th>PostalCode</th>\n",
       "      <th>Borough</th>\n",
       "      <th>Neighborhood</th>\n",
       "    </tr>\n",
       "  </thead>\n",
       "  <tbody>\n",
       "    <tr>\n",
       "      <th>0</th>\n",
       "      <td>M3A</td>\n",
       "      <td>North York</td>\n",
       "      <td>Parkwoods</td>\n",
       "    </tr>\n",
       "    <tr>\n",
       "      <th>1</th>\n",
       "      <td>M4A</td>\n",
       "      <td>North York</td>\n",
       "      <td>Victoria Village</td>\n",
       "    </tr>\n",
       "    <tr>\n",
       "      <th>2</th>\n",
       "      <td>M5A</td>\n",
       "      <td>Downtown Toronto</td>\n",
       "      <td>Regent Park, Harbourfront</td>\n",
       "    </tr>\n",
       "    <tr>\n",
       "      <th>3</th>\n",
       "      <td>M6A</td>\n",
       "      <td>North York</td>\n",
       "      <td>Lawrence Manor, Lawrence Heights</td>\n",
       "    </tr>\n",
       "    <tr>\n",
       "      <th>4</th>\n",
       "      <td>M7A</td>\n",
       "      <td>Queen's Park</td>\n",
       "      <td>Ontario Provincial Government</td>\n",
       "    </tr>\n",
       "  </tbody>\n",
       "</table>\n",
       "</div>"
      ],
      "text/plain": [
       "  PostalCode           Borough                      Neighborhood\n",
       "0        M3A        North York                         Parkwoods\n",
       "1        M4A        North York                  Victoria Village\n",
       "2        M5A  Downtown Toronto         Regent Park, Harbourfront\n",
       "3        M6A        North York  Lawrence Manor, Lawrence Heights\n",
       "4        M7A      Queen's Park     Ontario Provincial Government"
      ]
     },
     "execution_count": 5,
     "metadata": {},
     "output_type": "execute_result"
    }
   ],
   "source": [
    "df = pd.read_csv('toronto_data.csv')\n",
    "df.head()"
   ]
  },
  {
   "cell_type": "code",
   "execution_count": 8,
   "id": "b864cf28",
   "metadata": {},
   "outputs": [
    {
     "data": {
      "text/plain": [
       "[43.65609000000006, -79.38492999999994]"
      ]
     },
     "execution_count": 8,
     "metadata": {},
     "output_type": "execute_result"
    }
   ],
   "source": [
    "\n",
    "def get_latilong(postal_code):\n",
    "    lati_long_coords = None\n",
    "    while(lati_long_coords is None):\n",
    "        g = geocoder.arcgis('{}, Toronto, Ontario'.format(postal_code))\n",
    "        lati_long_coords = g.latlng\n",
    "    return lati_long_coords\n",
    "    \n",
    "get_latilong('M5G')"
   ]
  },
  {
   "cell_type": "code",
   "execution_count": 7,
   "id": "7731092f",
   "metadata": {},
   "outputs": [],
   "source": [
    "postal_codes = df['PostalCode']   \n",
    "coords = [ get_latilong(postal_code) for postal_code in postal_codes.tolist() ]\n",
    "df_coords = pd.DataFrame(coords, columns=['Latitude', 'Longitude'])\n",
    "df['Latitude'] = df_coords['Latitude']\n",
    "df['Longitude'] = df_coords['Longitude']"
   ]
  },
  {
   "cell_type": "code",
   "execution_count": 9,
   "id": "23a9b173",
   "metadata": {},
   "outputs": [
    {
     "data": {
      "text/html": [
       "<div>\n",
       "<style scoped>\n",
       "    .dataframe tbody tr th:only-of-type {\n",
       "        vertical-align: middle;\n",
       "    }\n",
       "\n",
       "    .dataframe tbody tr th {\n",
       "        vertical-align: top;\n",
       "    }\n",
       "\n",
       "    .dataframe thead th {\n",
       "        text-align: right;\n",
       "    }\n",
       "</style>\n",
       "<table border=\"1\" class=\"dataframe\">\n",
       "  <thead>\n",
       "    <tr style=\"text-align: right;\">\n",
       "      <th></th>\n",
       "      <th>PostalCode</th>\n",
       "      <th>Borough</th>\n",
       "      <th>Neighborhood</th>\n",
       "      <th>Latitude</th>\n",
       "      <th>Longitude</th>\n",
       "    </tr>\n",
       "  </thead>\n",
       "  <tbody>\n",
       "    <tr>\n",
       "      <th>0</th>\n",
       "      <td>M3A</td>\n",
       "      <td>North York</td>\n",
       "      <td>Parkwoods</td>\n",
       "      <td>43.75245</td>\n",
       "      <td>-79.32991</td>\n",
       "    </tr>\n",
       "    <tr>\n",
       "      <th>1</th>\n",
       "      <td>M4A</td>\n",
       "      <td>North York</td>\n",
       "      <td>Victoria Village</td>\n",
       "      <td>43.73057</td>\n",
       "      <td>-79.31306</td>\n",
       "    </tr>\n",
       "    <tr>\n",
       "      <th>2</th>\n",
       "      <td>M5A</td>\n",
       "      <td>Downtown Toronto</td>\n",
       "      <td>Regent Park, Harbourfront</td>\n",
       "      <td>43.65512</td>\n",
       "      <td>-79.36264</td>\n",
       "    </tr>\n",
       "    <tr>\n",
       "      <th>3</th>\n",
       "      <td>M6A</td>\n",
       "      <td>North York</td>\n",
       "      <td>Lawrence Manor, Lawrence Heights</td>\n",
       "      <td>43.72327</td>\n",
       "      <td>-79.45042</td>\n",
       "    </tr>\n",
       "    <tr>\n",
       "      <th>4</th>\n",
       "      <td>M7A</td>\n",
       "      <td>Queen's Park</td>\n",
       "      <td>Ontario Provincial Government</td>\n",
       "      <td>43.66253</td>\n",
       "      <td>-79.39188</td>\n",
       "    </tr>\n",
       "    <tr>\n",
       "      <th>5</th>\n",
       "      <td>M9A</td>\n",
       "      <td>Etobicoke</td>\n",
       "      <td>Islington Avenue</td>\n",
       "      <td>43.66263</td>\n",
       "      <td>-79.52831</td>\n",
       "    </tr>\n",
       "    <tr>\n",
       "      <th>6</th>\n",
       "      <td>M1B</td>\n",
       "      <td>Scarborough</td>\n",
       "      <td>Malvern, Rouge</td>\n",
       "      <td>43.81139</td>\n",
       "      <td>-79.19662</td>\n",
       "    </tr>\n",
       "    <tr>\n",
       "      <th>7</th>\n",
       "      <td>M3B</td>\n",
       "      <td>North York</td>\n",
       "      <td>Don Mills North</td>\n",
       "      <td>43.74923</td>\n",
       "      <td>-79.36186</td>\n",
       "    </tr>\n",
       "    <tr>\n",
       "      <th>8</th>\n",
       "      <td>M4B</td>\n",
       "      <td>East York</td>\n",
       "      <td>Parkview Hill, Woodbine Gardens</td>\n",
       "      <td>43.70718</td>\n",
       "      <td>-79.31192</td>\n",
       "    </tr>\n",
       "    <tr>\n",
       "      <th>9</th>\n",
       "      <td>M5B</td>\n",
       "      <td>Downtown Toronto</td>\n",
       "      <td>Garden District, Ryerson</td>\n",
       "      <td>43.65739</td>\n",
       "      <td>-79.37804</td>\n",
       "    </tr>\n",
       "  </tbody>\n",
       "</table>\n",
       "</div>"
      ],
      "text/plain": [
       "  PostalCode           Borough                      Neighborhood  Latitude  \\\n",
       "0        M3A        North York                         Parkwoods  43.75245   \n",
       "1        M4A        North York                  Victoria Village  43.73057   \n",
       "2        M5A  Downtown Toronto         Regent Park, Harbourfront  43.65512   \n",
       "3        M6A        North York  Lawrence Manor, Lawrence Heights  43.72327   \n",
       "4        M7A      Queen's Park     Ontario Provincial Government  43.66253   \n",
       "5        M9A         Etobicoke                  Islington Avenue  43.66263   \n",
       "6        M1B       Scarborough                    Malvern, Rouge  43.81139   \n",
       "7        M3B        North York                   Don Mills North  43.74923   \n",
       "8        M4B         East York   Parkview Hill, Woodbine Gardens  43.70718   \n",
       "9        M5B  Downtown Toronto          Garden District, Ryerson  43.65739   \n",
       "\n",
       "   Longitude  \n",
       "0  -79.32991  \n",
       "1  -79.31306  \n",
       "2  -79.36264  \n",
       "3  -79.45042  \n",
       "4  -79.39188  \n",
       "5  -79.52831  \n",
       "6  -79.19662  \n",
       "7  -79.36186  \n",
       "8  -79.31192  \n",
       "9  -79.37804  "
      ]
     },
     "execution_count": 9,
     "metadata": {},
     "output_type": "execute_result"
    }
   ],
   "source": [
    "df.head(10)"
   ]
  },
  {
   "cell_type": "code",
   "execution_count": 10,
   "id": "73314cc5",
   "metadata": {},
   "outputs": [],
   "source": [
    "df.to_csv('toronto_data2.csv',index=False)"
   ]
  },
  {
   "cell_type": "code",
   "execution_count": null,
   "id": "46151580",
   "metadata": {},
   "outputs": [],
   "source": []
  }
 ],
 "metadata": {
  "kernelspec": {
   "display_name": "Python 3",
   "language": "python",
   "name": "python3"
  },
  "language_info": {
   "codemirror_mode": {
    "name": "ipython",
    "version": 3
   },
   "file_extension": ".py",
   "mimetype": "text/x-python",
   "name": "python",
   "nbconvert_exporter": "python",
   "pygments_lexer": "ipython3",
   "version": "3.8.8"
  }
 },
 "nbformat": 4,
 "nbformat_minor": 5
}
